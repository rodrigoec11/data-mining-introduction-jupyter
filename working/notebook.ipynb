{
 "cells": [
  {
   "cell_type": "markdown",
   "metadata": {
    "papermill": {
     "duration": 0.09616,
     "end_time": "2020-12-09T08:47:46.632784",
     "exception": false,
     "start_time": "2020-12-09T08:47:46.536624",
     "status": "completed"
    },
    "tags": []
   },
   "source": [
    "# Práctica 0: Introducción a `Jupyter`\n",
    "\n",
    "## Minería de Datos\n",
    "\n",
    "### Curso académico 2021-2022\n",
    "\n",
    "#### Profesorado:\n",
    "\n",
    "* Juan Carlos Alfaro Jiménez\n",
    "* José Antonio Gámez Martín\n",
    "\n",
    "---\n",
    "\n",
    "**Nota**: Adaptado de las prácticas de Jacinto Arias Martínez y Enrique González Rodrigo.\n",
    "\n",
    "----\n",
    "\n",
    "En esta práctica introduciremos las capacidades básicas de `Jupyter` y veremos las librerías que emplearemos durante el curso."
   ]
  },
  {
   "cell_type": "markdown",
   "metadata": {},
   "source": [
    "## 1. `Markdown`\n",
    "\n",
    "El formato de anotado de texto `Markdown` es uno de los más populares hoy en día, después de `HTML`. Esto se debe a que, siendo solo un superconjunto con respecto a este último, la forma de trabajar es mucho más ligera, y por ello podemos usarlo en multitud de sitios. Generalmente se usa mucho para documentar pequeños fragmentos de texto, como los ficheros [`README.md`](https://github.com/alfaro96/data-mining-introduction-jupyter).\n",
    "\n",
    "La sintaxis es muy reducida y fácil de aprender, podéis consultarla en el siguiente [enlace](https://nbviewer.jupyter.org/github/jupyter/notebook/blob/master/docs/source/examples/Notebook/Working%20With%20Markdown%20Cells.ipynb). A continuación se muestran las capacidades básicas:"
   ]
  },
  {
   "cell_type": "markdown",
   "metadata": {
    "papermill": {
     "duration": 0.093449,
     "end_time": "2020-12-09T08:47:47.382921",
     "exception": false,
     "start_time": "2020-12-09T08:47:47.289472",
     "status": "completed"
    },
    "tags": []
   },
   "source": [
    "### Base\n",
    "\n",
    "Se puede añadir texto en *itálica* o **negrita** rodeándolo con uno o dos asteriscos, respectivamente.\n",
    "\n",
    "Además es posible añadir listas sin numerar:\n",
    "\n",
    "* Esto es un ítem sin numerar.\n",
    "    * Esto es un subítem sin numerar.\n",
    "        * Esto es un subsubítem sin numerar.     \n",
    "* Esto es otro ítem sin numerar.\n",
    "\n",
    "Y numeradas:\n",
    "\n",
    "1. Esto es un ítem numerado.\n",
    "    1. Esto es un subítem numerado.\n",
    "        1. Esto es un subsubítem numerado.\n",
    "2. Esto es otro ítem numerado."
   ]
  },
  {
   "cell_type": "markdown",
   "metadata": {
    "papermill": {
     "duration": 0.093845,
     "end_time": "2020-12-09T08:47:47.757805",
     "exception": false,
     "start_time": "2020-12-09T08:47:47.663960",
     "status": "completed"
    },
    "tags": []
   },
   "source": [
    "### Encabezados\n",
    "\n",
    "Para crear encabezados se deben escribir almohadillas seguidas de un espacio en blanco:\n",
    "\n",
    "# Encabezado 1\n",
    "## Encabezado 1.1\n",
    "### Encabezado 1.1.1\n",
    "#### Encabezado 1.1.1.1"
   ]
  },
  {
   "cell_type": "markdown",
   "metadata": {
    "papermill": {
     "duration": 0.096511,
     "end_time": "2020-12-09T08:47:50.488320",
     "exception": false,
     "start_time": "2020-12-09T08:47:50.391809",
     "status": "completed"
    },
    "tags": []
   },
   "source": [
    "## 2. Librerías científicas de `Python`\n",
    "\n",
    "A continuación veremos las funcionalidades básicas de las librerías de `Python` que utilizaremos. Pero antes de ello, vamos a fijar una semilla para asegurar que la generación de números aleatorios se produce de acuerdo a un patrón. Esto nos permite garantizar la reproducibilidad de los experimentos, algo de vital importancia para que otros científicos puedan replicar los resultados que hayamos obtenido. Como estamos en un entorno interactivo, es muy probable que ejecutemos cada celda varias veces. Esto puede llevar a resultados que no son reproducibles, por lo que es recomendable reiniciar la libreta y ejecutar todo de manera secuencial una única vez, para así asegurar que los resultados son deterministas."
   ]
  },
  {
   "cell_type": "code",
   "execution_count": 1,
   "metadata": {
    "execution": {
     "iopub.execute_input": "2020-12-09T08:47:51.305600Z",
     "iopub.status.busy": "2020-12-09T08:47:51.304789Z",
     "iopub.status.idle": "2020-12-09T08:47:51.308043Z",
     "shell.execute_reply": "2020-12-09T08:47:51.307347Z"
    },
    "papermill": {
     "duration": 0.105746,
     "end_time": "2020-12-09T08:47:51.308166",
     "exception": false,
     "start_time": "2020-12-09T08:47:51.202420",
     "status": "completed"
    },
    "tags": []
   },
   "outputs": [],
   "source": [
    "seed = random_state = 707005"
   ]
  },
  {
   "cell_type": "markdown",
   "metadata": {
    "_uuid": "c59d9c38594315100b6fa733b411c0eb25090b5b",
    "papermill": {
     "duration": 0.0976,
     "end_time": "2020-12-09T08:47:51.503589",
     "exception": false,
     "start_time": "2020-12-09T08:47:51.405989",
     "status": "completed"
    },
    "tags": []
   },
   "source": [
    "### 2.1. `NumPy`\n",
    "\n",
    "`NumPy` es el paquete fundamental de `Python` para entornos científicos, principalmente caracterizado por su motor de operaciones de álgebra lineal.\n",
    "\n",
    "Se trata de una librería sumamente amplia, por lo que solo veremos su funcionalidad básica. No obstante, un tutorial más exhaustivo se ofrece en este [enlace](https://numpy.org/doc/stable/user/quickstart.html)."
   ]
  },
  {
   "cell_type": "markdown",
   "metadata": {
    "_uuid": "222a797187cc4e0136d58072bb4594f832fa7b55",
    "papermill": {
     "duration": 0.097806,
     "end_time": "2020-12-09T08:47:51.902200",
     "exception": false,
     "start_time": "2020-12-09T08:47:51.804394",
     "status": "completed"
    },
    "tags": []
   },
   "source": [
    "#### Creación de *arrays*\n",
    "\n",
    "Podemos crear *arrays* de distintas dimensiones utilizando, para ello, distintas [rutinas](https://numpy.org/doc/stable/reference/routines.array-creation.html). En este caso, solo veremos las más utilizadas.\n",
    "\n",
    "Para inicializar *arrays* de 1 dimensión podemos usar, por ejemplo, listas de `Python`:"
   ]
  },
  {
   "cell_type": "code",
   "execution_count": 2,
   "metadata": {},
   "outputs": [],
   "source": [
    "import numpy as np"
   ]
  },
  {
   "cell_type": "code",
   "execution_count": 3,
   "metadata": {},
   "outputs": [],
   "source": [
    "sequence = [0, 1, 2, 3]"
   ]
  },
  {
   "cell_type": "code",
   "execution_count": 4,
   "metadata": {
    "_uuid": "0ddd069377162fc5f5e2f22a6552af1521898fd0",
    "execution": {
     "iopub.execute_input": "2020-12-09T08:47:52.302164Z",
     "iopub.status.busy": "2020-12-09T08:47:52.301240Z",
     "iopub.status.idle": "2020-12-09T08:47:52.305773Z",
     "shell.execute_reply": "2020-12-09T08:47:52.305065Z"
    },
    "papermill": {
     "duration": 0.109846,
     "end_time": "2020-12-09T08:47:52.305925",
     "exception": false,
     "start_time": "2020-12-09T08:47:52.196079",
     "status": "completed"
    },
    "tags": []
   },
   "outputs": [],
   "source": [
    "arr = np.array(sequence)"
   ]
  },
  {
   "cell_type": "code",
   "execution_count": 5,
   "metadata": {},
   "outputs": [
    {
     "data": {
      "text/plain": [
       "array([0, 1, 2, 3])"
      ]
     },
     "execution_count": 5,
     "metadata": {},
     "output_type": "execute_result"
    }
   ],
   "source": [
    "arr"
   ]
  },
  {
   "cell_type": "markdown",
   "metadata": {
    "papermill": {
     "duration": 0.098309,
     "end_time": "2020-12-09T08:47:52.502186",
     "exception": false,
     "start_time": "2020-12-09T08:47:52.403877",
     "status": "completed"
    },
    "tags": []
   },
   "source": [
    "O generadores de rangos de `NumPy`:"
   ]
  },
  {
   "cell_type": "code",
   "execution_count": 6,
   "metadata": {
    "execution": {
     "iopub.execute_input": "2020-12-09T08:47:52.704698Z",
     "iopub.status.busy": "2020-12-09T08:47:52.703790Z",
     "iopub.status.idle": "2020-12-09T08:47:52.707790Z",
     "shell.execute_reply": "2020-12-09T08:47:52.707085Z"
    },
    "papermill": {
     "duration": 0.107484,
     "end_time": "2020-12-09T08:47:52.707918",
     "exception": false,
     "start_time": "2020-12-09T08:47:52.600434",
     "status": "completed"
    },
    "tags": []
   },
   "outputs": [],
   "source": [
    "arr = np.arange(4)"
   ]
  },
  {
   "cell_type": "code",
   "execution_count": 7,
   "metadata": {},
   "outputs": [
    {
     "data": {
      "text/plain": [
       "array([0, 1, 2, 3])"
      ]
     },
     "execution_count": 7,
     "metadata": {},
     "output_type": "execute_result"
    }
   ],
   "source": [
    "arr"
   ]
  },
  {
   "cell_type": "markdown",
   "metadata": {
    "papermill": {
     "duration": 0.09848,
     "end_time": "2020-12-09T08:47:52.905545",
     "exception": false,
     "start_time": "2020-12-09T08:47:52.807065",
     "status": "completed"
    },
    "tags": []
   },
   "source": [
    "También se pueden crear *arrays* de dos dimensiones:"
   ]
  },
  {
   "cell_type": "code",
   "execution_count": 8,
   "metadata": {
    "execution": {
     "iopub.execute_input": "2020-12-09T08:47:53.321046Z",
     "iopub.status.busy": "2020-12-09T08:47:53.320091Z",
     "iopub.status.idle": "2020-12-09T08:47:53.324785Z",
     "shell.execute_reply": "2020-12-09T08:47:53.324065Z"
    },
    "papermill": {
     "duration": 0.109844,
     "end_time": "2020-12-09T08:47:53.324929",
     "exception": false,
     "start_time": "2020-12-09T08:47:53.215085",
     "status": "completed"
    },
    "tags": []
   },
   "outputs": [],
   "source": [
    "arr = np.arange(12).reshape(3, 4)"
   ]
  },
  {
   "cell_type": "code",
   "execution_count": 9,
   "metadata": {},
   "outputs": [
    {
     "data": {
      "text/plain": [
       "array([[ 0,  1,  2,  3],\n",
       "       [ 4,  5,  6,  7],\n",
       "       [ 8,  9, 10, 11]])"
      ]
     },
     "execution_count": 9,
     "metadata": {},
     "output_type": "execute_result"
    }
   ],
   "source": [
    "arr"
   ]
  },
  {
   "cell_type": "markdown",
   "metadata": {
    "papermill": {
     "duration": 0.099807,
     "end_time": "2020-12-09T08:47:53.525437",
     "exception": false,
     "start_time": "2020-12-09T08:47:53.425630",
     "status": "completed"
    },
    "tags": []
   },
   "source": [
    "El acceso a los elementos de los *arrays* se realiza de manera análoga al utilizado para las listas de `Python`. Por ejemplo, podemos acceder a la segunda fila:"
   ]
  },
  {
   "cell_type": "code",
   "execution_count": 10,
   "metadata": {
    "execution": {
     "iopub.execute_input": "2020-12-09T08:47:53.732101Z",
     "iopub.status.busy": "2020-12-09T08:47:53.731110Z",
     "iopub.status.idle": "2020-12-09T08:47:53.735838Z",
     "shell.execute_reply": "2020-12-09T08:47:53.735233Z"
    },
    "papermill": {
     "duration": 0.110034,
     "end_time": "2020-12-09T08:47:53.735995",
     "exception": false,
     "start_time": "2020-12-09T08:47:53.625961",
     "status": "completed"
    },
    "tags": []
   },
   "outputs": [
    {
     "data": {
      "text/plain": [
       "array([4, 5, 6, 7])"
      ]
     },
     "execution_count": 10,
     "metadata": {},
     "output_type": "execute_result"
    }
   ],
   "source": [
    "arr[1]"
   ]
  },
  {
   "cell_type": "markdown",
   "metadata": {
    "papermill": {
     "duration": 0.10086,
     "end_time": "2020-12-09T08:47:53.938136",
     "exception": false,
     "start_time": "2020-12-09T08:47:53.837276",
     "status": "completed"
    },
    "tags": []
   },
   "source": [
    "A la primera fila y tercera columna:"
   ]
  },
  {
   "cell_type": "code",
   "execution_count": 11,
   "metadata": {
    "execution": {
     "iopub.execute_input": "2020-12-09T08:47:54.146444Z",
     "iopub.status.busy": "2020-12-09T08:47:54.145434Z",
     "iopub.status.idle": "2020-12-09T08:47:54.148675Z",
     "shell.execute_reply": "2020-12-09T08:47:54.149352Z"
    },
    "papermill": {
     "duration": 0.110264,
     "end_time": "2020-12-09T08:47:54.149500",
     "exception": false,
     "start_time": "2020-12-09T08:47:54.039236",
     "status": "completed"
    },
    "tags": []
   },
   "outputs": [
    {
     "data": {
      "text/plain": [
       "2"
      ]
     },
     "execution_count": 11,
     "metadata": {},
     "output_type": "execute_result"
    }
   ],
   "source": [
    "arr[0][2]"
   ]
  },
  {
   "cell_type": "markdown",
   "metadata": {
    "papermill": {
     "duration": 0.101096,
     "end_time": "2020-12-09T08:47:54.351630",
     "exception": false,
     "start_time": "2020-12-09T08:47:54.250534",
     "status": "completed"
    },
    "tags": []
   },
   "source": [
    "O equivalentemente:"
   ]
  },
  {
   "cell_type": "code",
   "execution_count": 12,
   "metadata": {
    "execution": {
     "iopub.execute_input": "2020-12-09T08:47:54.561382Z",
     "iopub.status.busy": "2020-12-09T08:47:54.560413Z",
     "iopub.status.idle": "2020-12-09T08:47:54.564947Z",
     "shell.execute_reply": "2020-12-09T08:47:54.564364Z"
    },
    "papermill": {
     "duration": 0.111554,
     "end_time": "2020-12-09T08:47:54.565068",
     "exception": false,
     "start_time": "2020-12-09T08:47:54.453514",
     "status": "completed"
    },
    "tags": []
   },
   "outputs": [
    {
     "data": {
      "text/plain": [
       "2"
      ]
     },
     "execution_count": 12,
     "metadata": {},
     "output_type": "execute_result"
    }
   ],
   "source": [
    "arr[0, 2]"
   ]
  },
  {
   "cell_type": "markdown",
   "metadata": {
    "papermill": {
     "duration": 0.101683,
     "end_time": "2020-12-09T08:47:54.768498",
     "exception": false,
     "start_time": "2020-12-09T08:47:54.666815",
     "status": "completed"
    },
    "tags": []
   },
   "source": [
    "Tal y como se puede observar, no es necesario utilizar un par de corchetes para acceder al elemento de cada dimensión, puesto que se puede indexar directamente mediante un único par separando, mediante comas, las distintas dimensiones."
   ]
  },
  {
   "cell_type": "markdown",
   "metadata": {},
   "source": [
    "También podemos crear *arrays* con un tamaño y valores predeterminados. Por ejemplo, un *array* de todo ceros:"
   ]
  },
  {
   "cell_type": "code",
   "execution_count": 13,
   "metadata": {},
   "outputs": [],
   "source": [
    "shape = (3, 3)"
   ]
  },
  {
   "cell_type": "code",
   "execution_count": 14,
   "metadata": {
    "execution": {
     "iopub.execute_input": "2020-12-09T08:47:55.208823Z",
     "iopub.status.busy": "2020-12-09T08:47:55.207784Z",
     "iopub.status.idle": "2020-12-09T08:47:55.211905Z",
     "shell.execute_reply": "2020-12-09T08:47:55.211200Z"
    },
    "papermill": {
     "duration": 0.12141,
     "end_time": "2020-12-09T08:47:55.212023",
     "exception": false,
     "start_time": "2020-12-09T08:47:55.090613",
     "status": "completed"
    },
    "tags": []
   },
   "outputs": [],
   "source": [
    "arr = np.zeros(shape)"
   ]
  },
  {
   "cell_type": "code",
   "execution_count": 15,
   "metadata": {},
   "outputs": [
    {
     "data": {
      "text/plain": [
       "array([[0., 0., 0.],\n",
       "       [0., 0., 0.],\n",
       "       [0., 0., 0.]])"
      ]
     },
     "execution_count": 15,
     "metadata": {},
     "output_type": "execute_result"
    }
   ],
   "source": [
    "arr"
   ]
  },
  {
   "cell_type": "markdown",
   "metadata": {
    "papermill": {
     "duration": 0.101395,
     "end_time": "2020-12-09T08:47:55.454463",
     "exception": false,
     "start_time": "2020-12-09T08:47:55.353068",
     "status": "completed"
    },
    "tags": []
   },
   "source": [
    "Todo unos:"
   ]
  },
  {
   "cell_type": "code",
   "execution_count": 16,
   "metadata": {
    "execution": {
     "iopub.execute_input": "2020-12-09T08:47:55.666730Z",
     "iopub.status.busy": "2020-12-09T08:47:55.665883Z",
     "iopub.status.idle": "2020-12-09T08:47:55.669289Z",
     "shell.execute_reply": "2020-12-09T08:47:55.669812Z"
    },
    "papermill": {
     "duration": 0.113553,
     "end_time": "2020-12-09T08:47:55.669980",
     "exception": false,
     "start_time": "2020-12-09T08:47:55.556427",
     "status": "completed"
    },
    "scrolled": true,
    "tags": []
   },
   "outputs": [],
   "source": [
    "arr = np.ones(shape)"
   ]
  },
  {
   "cell_type": "code",
   "execution_count": 17,
   "metadata": {},
   "outputs": [
    {
     "data": {
      "text/plain": [
       "array([[1., 1., 1.],\n",
       "       [1., 1., 1.],\n",
       "       [1., 1., 1.]])"
      ]
     },
     "execution_count": 17,
     "metadata": {},
     "output_type": "execute_result"
    }
   ],
   "source": [
    "arr"
   ]
  },
  {
   "cell_type": "markdown",
   "metadata": {
    "papermill": {
     "duration": 0.11645,
     "end_time": "2020-12-09T08:47:55.892569",
     "exception": false,
     "start_time": "2020-12-09T08:47:55.776119",
     "status": "completed"
    },
    "tags": []
   },
   "source": [
    "O incluso todo unos en la diagonal principal:"
   ]
  },
  {
   "cell_type": "code",
   "execution_count": 18,
   "metadata": {
    "execution": {
     "iopub.execute_input": "2020-12-09T08:47:56.117898Z",
     "iopub.status.busy": "2020-12-09T08:47:56.116807Z",
     "iopub.status.idle": "2020-12-09T08:47:56.122186Z",
     "shell.execute_reply": "2020-12-09T08:47:56.121291Z"
    },
    "papermill": {
     "duration": 0.121249,
     "end_time": "2020-12-09T08:47:56.122340",
     "exception": false,
     "start_time": "2020-12-09T08:47:56.001091",
     "status": "completed"
    },
    "tags": []
   },
   "outputs": [],
   "source": [
    "arr = np.eye(3, 3)"
   ]
  },
  {
   "cell_type": "code",
   "execution_count": 19,
   "metadata": {},
   "outputs": [
    {
     "data": {
      "text/plain": [
       "array([[1., 0., 0.],\n",
       "       [0., 1., 0.],\n",
       "       [0., 0., 1.]])"
      ]
     },
     "execution_count": 19,
     "metadata": {},
     "output_type": "execute_result"
    }
   ],
   "source": [
    "arr"
   ]
  },
  {
   "cell_type": "markdown",
   "metadata": {
    "_uuid": "cfb4d36c42a9f9eb0ce737fadfdef33a20865d29",
    "papermill": {
     "duration": 0.103156,
     "end_time": "2020-12-09T08:47:56.334239",
     "exception": false,
     "start_time": "2020-12-09T08:47:56.231083",
     "status": "completed"
    },
    "tags": []
   },
   "source": [
    "#### Propiedades\n",
    "\n",
    "Podemos acceder a diversas propiedades de un *array* como el tamaño de sus dimensiones:"
   ]
  },
  {
   "cell_type": "code",
   "execution_count": 20,
   "metadata": {
    "execution": {
     "iopub.execute_input": "2020-12-09T08:47:56.757676Z",
     "iopub.status.busy": "2020-12-09T08:47:56.756668Z",
     "iopub.status.idle": "2020-12-09T08:47:56.761118Z",
     "shell.execute_reply": "2020-12-09T08:47:56.760401Z"
    },
    "papermill": {
     "duration": 0.112406,
     "end_time": "2020-12-09T08:47:56.761238",
     "exception": false,
     "start_time": "2020-12-09T08:47:56.648832",
     "status": "completed"
    },
    "tags": []
   },
   "outputs": [
    {
     "data": {
      "text/plain": [
       "(3, 3)"
      ]
     },
     "execution_count": 20,
     "metadata": {},
     "output_type": "execute_result"
    }
   ],
   "source": [
    "arr.shape"
   ]
  },
  {
   "cell_type": "markdown",
   "metadata": {
    "papermill": {
     "duration": 0.103918,
     "end_time": "2020-12-09T08:47:56.969693",
     "exception": false,
     "start_time": "2020-12-09T08:47:56.865775",
     "status": "completed"
    },
    "tags": []
   },
   "source": [
    "El número de dimensiones:"
   ]
  },
  {
   "cell_type": "code",
   "execution_count": 21,
   "metadata": {
    "execution": {
     "iopub.execute_input": "2020-12-09T08:47:57.184832Z",
     "iopub.status.busy": "2020-12-09T08:47:57.184137Z",
     "iopub.status.idle": "2020-12-09T08:47:57.189136Z",
     "shell.execute_reply": "2020-12-09T08:47:57.188395Z"
    },
    "papermill": {
     "duration": 0.114364,
     "end_time": "2020-12-09T08:47:57.189257",
     "exception": false,
     "start_time": "2020-12-09T08:47:57.074893",
     "status": "completed"
    },
    "tags": []
   },
   "outputs": [
    {
     "data": {
      "text/plain": [
       "2"
      ]
     },
     "execution_count": 21,
     "metadata": {},
     "output_type": "execute_result"
    }
   ],
   "source": [
    "arr.ndim"
   ]
  },
  {
   "cell_type": "markdown",
   "metadata": {
    "papermill": {
     "duration": 0.104852,
     "end_time": "2020-12-09T08:47:57.399980",
     "exception": false,
     "start_time": "2020-12-09T08:47:57.295128",
     "status": "completed"
    },
    "tags": []
   },
   "source": [
    "O el tipo de datos:"
   ]
  },
  {
   "cell_type": "code",
   "execution_count": 22,
   "metadata": {
    "execution": {
     "iopub.execute_input": "2020-12-09T08:47:57.616912Z",
     "iopub.status.busy": "2020-12-09T08:47:57.615777Z",
     "iopub.status.idle": "2020-12-09T08:47:57.620636Z",
     "shell.execute_reply": "2020-12-09T08:47:57.620034Z"
    },
    "papermill": {
     "duration": 0.115567,
     "end_time": "2020-12-09T08:47:57.620755",
     "exception": false,
     "start_time": "2020-12-09T08:47:57.505188",
     "status": "completed"
    },
    "tags": []
   },
   "outputs": [
    {
     "data": {
      "text/plain": [
       "'float64'"
      ]
     },
     "execution_count": 22,
     "metadata": {},
     "output_type": "execute_result"
    }
   ],
   "source": [
    "arr.dtype.name"
   ]
  },
  {
   "cell_type": "markdown",
   "metadata": {
    "papermill": {
     "duration": 0.105357,
     "end_time": "2020-12-09T08:47:57.831226",
     "exception": false,
     "start_time": "2020-12-09T08:47:57.725869",
     "status": "completed"
    },
    "tags": []
   },
   "source": [
    "La lista exhaustiva de las propiedades de los *arrays* de `NumPy` se proporciona en la [documentación](https://numpy.org/doc/stable/reference/generated/numpy.ndarray.html) del objeto `ndarray`."
   ]
  },
  {
   "cell_type": "markdown",
   "metadata": {},
   "source": [
    "#### Operaciones\n",
    "\n",
    "`NumPy` contiene multitud de [rutinas matemáticas](https://numpy.org/doc/stable/reference/routines.math.html) en referencia a los elementos de los *arrays* y de operaciones de álgebra lineal. Por ejemplo, podemos sumar, restar, multiplicar, dividir, etc. todos los valores de un *array* por una constante:"
   ]
  },
  {
   "cell_type": "code",
   "execution_count": 23,
   "metadata": {
    "execution": {
     "iopub.execute_input": "2020-12-09T08:47:58.471080Z",
     "iopub.status.busy": "2020-12-09T08:47:58.470124Z",
     "iopub.status.idle": "2020-12-09T08:47:58.474632Z",
     "shell.execute_reply": "2020-12-09T08:47:58.474009Z"
    },
    "papermill": {
     "duration": 0.115161,
     "end_time": "2020-12-09T08:47:58.474762",
     "exception": false,
     "start_time": "2020-12-09T08:47:58.359601",
     "status": "completed"
    },
    "tags": []
   },
   "outputs": [
    {
     "data": {
      "text/plain": [
       "array([[4., 3., 3.],\n",
       "       [3., 4., 3.],\n",
       "       [3., 3., 4.]])"
      ]
     },
     "execution_count": 23,
     "metadata": {},
     "output_type": "execute_result"
    }
   ],
   "source": [
    "arr + 3"
   ]
  },
  {
   "cell_type": "code",
   "execution_count": 24,
   "metadata": {
    "_uuid": "41d5c393592aefa3380fa0434ea01a430a4e4eca",
    "execution": {
     "iopub.execute_input": "2020-12-09T08:47:58.692892Z",
     "iopub.status.busy": "2020-12-09T08:47:58.691815Z",
     "iopub.status.idle": "2020-12-09T08:47:58.696478Z",
     "shell.execute_reply": "2020-12-09T08:47:58.695893Z"
    },
    "papermill": {
     "duration": 0.115641,
     "end_time": "2020-12-09T08:47:58.696601",
     "exception": false,
     "start_time": "2020-12-09T08:47:58.580960",
     "status": "completed"
    },
    "tags": []
   },
   "outputs": [
    {
     "data": {
      "text/plain": [
       "array([[-2., -3., -3.],\n",
       "       [-3., -2., -3.],\n",
       "       [-3., -3., -2.]])"
      ]
     },
     "execution_count": 24,
     "metadata": {},
     "output_type": "execute_result"
    }
   ],
   "source": [
    "arr - 3"
   ]
  },
  {
   "cell_type": "code",
   "execution_count": 25,
   "metadata": {
    "execution": {
     "iopub.execute_input": "2020-12-09T08:47:58.917309Z",
     "iopub.status.busy": "2020-12-09T08:47:58.916142Z",
     "iopub.status.idle": "2020-12-09T08:47:58.922727Z",
     "shell.execute_reply": "2020-12-09T08:47:58.921863Z"
    },
    "papermill": {
     "duration": 0.119761,
     "end_time": "2020-12-09T08:47:58.922906",
     "exception": false,
     "start_time": "2020-12-09T08:47:58.803145",
     "status": "completed"
    },
    "tags": []
   },
   "outputs": [
    {
     "data": {
      "text/plain": [
       "array([[3., 0., 0.],\n",
       "       [0., 3., 0.],\n",
       "       [0., 0., 3.]])"
      ]
     },
     "execution_count": 25,
     "metadata": {},
     "output_type": "execute_result"
    }
   ],
   "source": [
    "arr * 3"
   ]
  },
  {
   "cell_type": "code",
   "execution_count": 26,
   "metadata": {
    "execution": {
     "iopub.execute_input": "2020-12-09T08:47:59.144869Z",
     "iopub.status.busy": "2020-12-09T08:47:59.144063Z",
     "iopub.status.idle": "2020-12-09T08:47:59.148066Z",
     "shell.execute_reply": "2020-12-09T08:47:59.147462Z"
    },
    "papermill": {
     "duration": 0.116632,
     "end_time": "2020-12-09T08:47:59.148195",
     "exception": false,
     "start_time": "2020-12-09T08:47:59.031563",
     "status": "completed"
    },
    "tags": []
   },
   "outputs": [
    {
     "data": {
      "text/plain": [
       "array([[0.33333333, 0.        , 0.        ],\n",
       "       [0.        , 0.33333333, 0.        ],\n",
       "       [0.        , 0.        , 0.33333333]])"
      ]
     },
     "execution_count": 26,
     "metadata": {},
     "output_type": "execute_result"
    }
   ],
   "source": [
    "arr / 3"
   ]
  },
  {
   "cell_type": "markdown",
   "metadata": {
    "papermill": {
     "duration": 0.106826,
     "end_time": "2020-12-09T08:47:59.363383",
     "exception": false,
     "start_time": "2020-12-09T08:47:59.256557",
     "status": "completed"
    },
    "tags": []
   },
   "source": [
    "O incluso transponerlo:"
   ]
  },
  {
   "cell_type": "code",
   "execution_count": 27,
   "metadata": {
    "_uuid": "a3915cb36716973e619bf20ee7fbed85d2711210",
    "execution": {
     "iopub.execute_input": "2020-12-09T08:47:59.584520Z",
     "iopub.status.busy": "2020-12-09T08:47:59.583452Z",
     "iopub.status.idle": "2020-12-09T08:47:59.587543Z",
     "shell.execute_reply": "2020-12-09T08:47:59.586885Z"
    },
    "papermill": {
     "duration": 0.116589,
     "end_time": "2020-12-09T08:47:59.587675",
     "exception": false,
     "start_time": "2020-12-09T08:47:59.471086",
     "status": "completed"
    },
    "tags": []
   },
   "outputs": [
    {
     "data": {
      "text/plain": [
       "array([[1., 0., 0.],\n",
       "       [0., 1., 0.],\n",
       "       [0., 0., 1.]])"
      ]
     },
     "execution_count": 27,
     "metadata": {},
     "output_type": "execute_result"
    }
   ],
   "source": [
    "arr.T"
   ]
  },
  {
   "cell_type": "markdown",
   "metadata": {
    "_uuid": "4946ad992bd0130311126aa245fdda2ae88bbe1b",
    "papermill": {
     "duration": 0.107425,
     "end_time": "2020-12-09T08:47:59.803128",
     "exception": false,
     "start_time": "2020-12-09T08:47:59.695703",
     "status": "completed"
    },
    "tags": []
   },
   "source": [
    "#### *Slicing*\n",
    "\n",
    "La operación de [*slicing*](https://numpy.org/doc/stable/reference/arrays.indexing.html) es sumamente importante en `NumPy`, puesto que permite acceder eficientemente a elementos consecutivos de un *array*.\n",
    "\n",
    "A continuación se muestra como acceder a la tercera columna:"
   ]
  },
  {
   "cell_type": "code",
   "execution_count": 28,
   "metadata": {
    "_uuid": "aef24fdf26adfc292708629fa0e406861fa691dd",
    "execution": {
     "iopub.execute_input": "2020-12-09T08:48:00.242677Z",
     "iopub.status.busy": "2020-12-09T08:48:00.241803Z",
     "iopub.status.idle": "2020-12-09T08:48:00.246183Z",
     "shell.execute_reply": "2020-12-09T08:48:00.245538Z"
    },
    "papermill": {
     "duration": 0.119283,
     "end_time": "2020-12-09T08:48:00.246304",
     "exception": false,
     "start_time": "2020-12-09T08:48:00.127021",
     "status": "completed"
    },
    "tags": []
   },
   "outputs": [
    {
     "data": {
      "text/plain": [
       "array([0., 0., 1.])"
      ]
     },
     "execution_count": 28,
     "metadata": {},
     "output_type": "execute_result"
    }
   ],
   "source": [
    "arr[:, 2]"
   ]
  },
  {
   "cell_type": "markdown",
   "metadata": {
    "papermill": {
     "duration": 0.110044,
     "end_time": "2020-12-09T08:48:00.465332",
     "exception": false,
     "start_time": "2020-12-09T08:48:00.355288",
     "status": "completed"
    },
    "tags": []
   },
   "source": [
    "A la primera fila:"
   ]
  },
  {
   "cell_type": "code",
   "execution_count": 29,
   "metadata": {
    "execution": {
     "iopub.execute_input": "2020-12-09T08:48:00.688439Z",
     "iopub.status.busy": "2020-12-09T08:48:00.687480Z",
     "iopub.status.idle": "2020-12-09T08:48:00.691956Z",
     "shell.execute_reply": "2020-12-09T08:48:00.691225Z"
    },
    "papermill": {
     "duration": 0.117886,
     "end_time": "2020-12-09T08:48:00.692075",
     "exception": false,
     "start_time": "2020-12-09T08:48:00.574189",
     "status": "completed"
    },
    "tags": []
   },
   "outputs": [
    {
     "data": {
      "text/plain": [
       "array([1., 0., 0.])"
      ]
     },
     "execution_count": 29,
     "metadata": {},
     "output_type": "execute_result"
    }
   ],
   "source": [
    "arr[0, :]"
   ]
  },
  {
   "cell_type": "markdown",
   "metadata": {
    "papermill": {
     "duration": 0.110417,
     "end_time": "2020-12-09T08:48:00.912595",
     "exception": false,
     "start_time": "2020-12-09T08:48:00.802178",
     "status": "completed"
    },
    "tags": []
   },
   "source": [
    "O incluso a las dos primeras filas y columnas:"
   ]
  },
  {
   "cell_type": "code",
   "execution_count": 30,
   "metadata": {
    "execution": {
     "iopub.execute_input": "2020-12-09T08:48:01.138276Z",
     "iopub.status.busy": "2020-12-09T08:48:01.137355Z",
     "iopub.status.idle": "2020-12-09T08:48:01.141201Z",
     "shell.execute_reply": "2020-12-09T08:48:01.141731Z"
    },
    "papermill": {
     "duration": 0.119437,
     "end_time": "2020-12-09T08:48:01.141910",
     "exception": false,
     "start_time": "2020-12-09T08:48:01.022473",
     "status": "completed"
    },
    "tags": []
   },
   "outputs": [
    {
     "data": {
      "text/plain": [
       "array([[1., 0.],\n",
       "       [0., 1.]])"
      ]
     },
     "execution_count": 30,
     "metadata": {},
     "output_type": "execute_result"
    }
   ],
   "source": [
    "arr[:2, :2]"
   ]
  },
  {
   "cell_type": "markdown",
   "metadata": {
    "papermill": {
     "duration": 0.109386,
     "end_time": "2020-12-09T08:48:01.361273",
     "exception": false,
     "start_time": "2020-12-09T08:48:01.251887",
     "status": "completed"
    },
    "tags": []
   },
   "source": [
    "### 2.2. `Pandas`\n",
    "\n",
    "`Pandas` es la librería de tratamiento de datos estructurados que utilizaremos durante las prácticas. En este caso, solo veremos su funcionalidad más básica, pero para todos aquellos que quieran profundizar se puede seguir este [tutorial](http://pandas.pydata.org/pandas-docs/stable/10min.html)."
   ]
  },
  {
   "cell_type": "markdown",
   "metadata": {
    "_uuid": "d728b5b2714cb94b930e9c727f44a33505b63b07",
    "papermill": {
     "duration": 0.109358,
     "end_time": "2020-12-09T08:48:01.800171",
     "exception": false,
     "start_time": "2020-12-09T08:48:01.690813",
     "status": "completed"
    },
    "tags": []
   },
   "source": [
    "#### Creación de datos\n",
    "\n",
    "Normalmente, trabajaremos con conjuntos de datos que han sido obtenidos de experimentos (bien reales o sintéticos). Sin embargo, para aprender su funcionalidad, utilizaremos datos artificiales que generaremos de manera aleatoria.\n",
    "\n",
    "La estructura de datos más importante de `Pandas` es el `DataFrame` (aunque existen otras como `Series`), que puede entenderse como una tabla de datos, donde las columnas representan variables y las filas casos concretos.\n",
    "\n",
    "A continuación vamos a ver un ejemplo de cómo podemos crear, de manera muy sencilla, un `DataFrame` de variables numéricas y discretas con casos aleatorios. Para ello, vamos a utilizar algunos de los generadores aleatorios de `NumPy` y los diccionarios de `Python`.\n",
    "\n",
    "---\n",
    "\n",
    "**Lectura recomendada**: Al tratarse el `DataFrame` de la estructura de datos por excelencia utilizada para cargar y almacenar conjuntos de datos, se recomienda estudiar su [documentación](https://pandas.pydata.org/pandas-docs/stable/reference/api/pandas.DataFrame.html).\n",
    "\n",
    "---"
   ]
  },
  {
   "cell_type": "markdown",
   "metadata": {},
   "source": [
    "Pero antes de ello, vamos a inicializar el generador de números aleatorios para garantizar la reproducibilidad de los experimentos:"
   ]
  },
  {
   "cell_type": "code",
   "execution_count": 31,
   "metadata": {},
   "outputs": [],
   "source": [
    "np.random.seed(seed)"
   ]
  },
  {
   "cell_type": "markdown",
   "metadata": {},
   "source": [
    "Tras esto, podemos crear las variables aleatorias:"
   ]
  },
  {
   "cell_type": "markdown",
   "metadata": {},
   "source": [
    "* Distribución uniforme (`uniform`):"
   ]
  },
  {
   "cell_type": "code",
   "execution_count": 32,
   "metadata": {},
   "outputs": [],
   "source": [
    "size = 1000"
   ]
  },
  {
   "cell_type": "code",
   "execution_count": 33,
   "metadata": {},
   "outputs": [],
   "source": [
    "uniform = np.random.uniform(size=size)"
   ]
  },
  {
   "cell_type": "markdown",
   "metadata": {},
   "source": [
    "* Distribución normal (`normal`):"
   ]
  },
  {
   "cell_type": "code",
   "execution_count": 34,
   "metadata": {},
   "outputs": [],
   "source": [
    "normal = np.random.normal(size=size)"
   ]
  },
  {
   "cell_type": "markdown",
   "metadata": {},
   "source": [
    "* Distribución discreta (`discrete`):"
   ]
  },
  {
   "cell_type": "code",
   "execution_count": 35,
   "metadata": {},
   "outputs": [],
   "source": [
    "days = [\"monday\", \"tuesday\", \"friday\"]"
   ]
  },
  {
   "cell_type": "code",
   "execution_count": 36,
   "metadata": {},
   "outputs": [],
   "source": [
    "discrete = np.random.choice(days, size=size)"
   ]
  },
  {
   "cell_type": "markdown",
   "metadata": {},
   "source": [
    "Y juntarlas en el `DataFrame` correspondiente:"
   ]
  },
  {
   "cell_type": "code",
   "execution_count": 37,
   "metadata": {},
   "outputs": [],
   "source": [
    "import pandas as pd"
   ]
  },
  {
   "cell_type": "code",
   "execution_count": 38,
   "metadata": {
    "execution": {
     "iopub.execute_input": "2020-12-09T08:48:02.505163Z",
     "iopub.status.busy": "2020-12-09T08:48:02.504397Z",
     "iopub.status.idle": "2020-12-09T08:48:02.507491Z",
     "shell.execute_reply": "2020-12-09T08:48:02.506779Z"
    },
    "papermill": {
     "duration": 0.119775,
     "end_time": "2020-12-09T08:48:02.507604",
     "exception": false,
     "start_time": "2020-12-09T08:48:02.387829",
     "status": "completed"
    },
    "tags": []
   },
   "outputs": [],
   "source": [
    "data = {\"uniform\": uniform, \"normal\": normal, \"discrete\": discrete}"
   ]
  },
  {
   "cell_type": "code",
   "execution_count": 39,
   "metadata": {},
   "outputs": [],
   "source": [
    "df = pd.DataFrame(data)"
   ]
  },
  {
   "cell_type": "code",
   "execution_count": 40,
   "metadata": {
    "execution": {
     "iopub.execute_input": "2020-12-09T08:48:02.750769Z",
     "iopub.status.busy": "2020-12-09T08:48:02.750024Z",
     "iopub.status.idle": "2020-12-09T08:48:02.759550Z",
     "shell.execute_reply": "2020-12-09T08:48:02.758802Z"
    },
    "papermill": {
     "duration": 0.137707,
     "end_time": "2020-12-09T08:48:02.759669",
     "exception": false,
     "start_time": "2020-12-09T08:48:02.621962",
     "status": "completed"
    },
    "tags": []
   },
   "outputs": [
    {
     "data": {
      "text/html": [
       "<div>\n",
       "<style scoped>\n",
       "    .dataframe tbody tr th:only-of-type {\n",
       "        vertical-align: middle;\n",
       "    }\n",
       "\n",
       "    .dataframe tbody tr th {\n",
       "        vertical-align: top;\n",
       "    }\n",
       "\n",
       "    .dataframe thead th {\n",
       "        text-align: right;\n",
       "    }\n",
       "</style>\n",
       "<table border=\"1\" class=\"dataframe\">\n",
       "  <thead>\n",
       "    <tr style=\"text-align: right;\">\n",
       "      <th></th>\n",
       "      <th>uniform</th>\n",
       "      <th>normal</th>\n",
       "      <th>discrete</th>\n",
       "    </tr>\n",
       "  </thead>\n",
       "  <tbody>\n",
       "    <tr>\n",
       "      <th>0</th>\n",
       "      <td>0.297776</td>\n",
       "      <td>-0.073827</td>\n",
       "      <td>monday</td>\n",
       "    </tr>\n",
       "    <tr>\n",
       "      <th>1</th>\n",
       "      <td>0.914609</td>\n",
       "      <td>-1.595461</td>\n",
       "      <td>monday</td>\n",
       "    </tr>\n",
       "    <tr>\n",
       "      <th>2</th>\n",
       "      <td>0.092395</td>\n",
       "      <td>0.252506</td>\n",
       "      <td>tuesday</td>\n",
       "    </tr>\n",
       "    <tr>\n",
       "      <th>3</th>\n",
       "      <td>0.840928</td>\n",
       "      <td>0.780471</td>\n",
       "      <td>tuesday</td>\n",
       "    </tr>\n",
       "    <tr>\n",
       "      <th>4</th>\n",
       "      <td>0.753250</td>\n",
       "      <td>-0.418519</td>\n",
       "      <td>monday</td>\n",
       "    </tr>\n",
       "    <tr>\n",
       "      <th>...</th>\n",
       "      <td>...</td>\n",
       "      <td>...</td>\n",
       "      <td>...</td>\n",
       "    </tr>\n",
       "    <tr>\n",
       "      <th>995</th>\n",
       "      <td>0.262760</td>\n",
       "      <td>-0.095582</td>\n",
       "      <td>friday</td>\n",
       "    </tr>\n",
       "    <tr>\n",
       "      <th>996</th>\n",
       "      <td>0.146250</td>\n",
       "      <td>-0.395295</td>\n",
       "      <td>friday</td>\n",
       "    </tr>\n",
       "    <tr>\n",
       "      <th>997</th>\n",
       "      <td>0.367978</td>\n",
       "      <td>0.745103</td>\n",
       "      <td>monday</td>\n",
       "    </tr>\n",
       "    <tr>\n",
       "      <th>998</th>\n",
       "      <td>0.973925</td>\n",
       "      <td>1.197313</td>\n",
       "      <td>monday</td>\n",
       "    </tr>\n",
       "    <tr>\n",
       "      <th>999</th>\n",
       "      <td>0.242217</td>\n",
       "      <td>1.912867</td>\n",
       "      <td>monday</td>\n",
       "    </tr>\n",
       "  </tbody>\n",
       "</table>\n",
       "<p>1000 rows × 3 columns</p>\n",
       "</div>"
      ],
      "text/plain": [
       "      uniform    normal discrete\n",
       "0    0.297776 -0.073827   monday\n",
       "1    0.914609 -1.595461   monday\n",
       "2    0.092395  0.252506  tuesday\n",
       "3    0.840928  0.780471  tuesday\n",
       "4    0.753250 -0.418519   monday\n",
       "..        ...       ...      ...\n",
       "995  0.262760 -0.095582   friday\n",
       "996  0.146250 -0.395295   friday\n",
       "997  0.367978  0.745103   monday\n",
       "998  0.973925  1.197313   monday\n",
       "999  0.242217  1.912867   monday\n",
       "\n",
       "[1000 rows x 3 columns]"
      ]
     },
     "execution_count": 40,
     "metadata": {},
     "output_type": "execute_result"
    }
   ],
   "source": [
    "df"
   ]
  },
  {
   "cell_type": "markdown",
   "metadata": {
    "_uuid": "97d2618ea7fa5dab6f1f549f675db84fa3d5f4a9",
    "papermill": {
     "duration": 0.113665,
     "end_time": "2020-12-09T08:48:02.986820",
     "exception": false,
     "start_time": "2020-12-09T08:48:02.873155",
     "status": "completed"
    },
    "tags": []
   },
   "source": [
    "Obsérvese que `Jupyter` solo renderiza las primeras y últimas filas del `DataFrame` para que podamos ver los datos con mayor comodidad. Para una mejor visualización, se recomienda mostrar únicamente algunas.\n",
    "\n",
    "Podemos mostrar las `n` primeros filas:"
   ]
  },
  {
   "cell_type": "code",
   "execution_count": 41,
   "metadata": {
    "_uuid": "b3fcba0126ce10ae3b9ee70a750f2950aa9c3136",
    "execution": {
     "iopub.execute_input": "2020-12-09T08:48:03.443450Z",
     "iopub.status.busy": "2020-12-09T08:48:03.442602Z",
     "iopub.status.idle": "2020-12-09T08:48:03.447597Z",
     "shell.execute_reply": "2020-12-09T08:48:03.446884Z"
    },
    "papermill": {
     "duration": 0.126521,
     "end_time": "2020-12-09T08:48:03.447718",
     "exception": false,
     "start_time": "2020-12-09T08:48:03.321197",
     "status": "completed"
    },
    "scrolled": false,
    "tags": []
   },
   "outputs": [
    {
     "data": {
      "text/html": [
       "<div>\n",
       "<style scoped>\n",
       "    .dataframe tbody tr th:only-of-type {\n",
       "        vertical-align: middle;\n",
       "    }\n",
       "\n",
       "    .dataframe tbody tr th {\n",
       "        vertical-align: top;\n",
       "    }\n",
       "\n",
       "    .dataframe thead th {\n",
       "        text-align: right;\n",
       "    }\n",
       "</style>\n",
       "<table border=\"1\" class=\"dataframe\">\n",
       "  <thead>\n",
       "    <tr style=\"text-align: right;\">\n",
       "      <th></th>\n",
       "      <th>uniform</th>\n",
       "      <th>normal</th>\n",
       "      <th>discrete</th>\n",
       "    </tr>\n",
       "  </thead>\n",
       "  <tbody>\n",
       "    <tr>\n",
       "      <th>0</th>\n",
       "      <td>0.297776</td>\n",
       "      <td>-0.073827</td>\n",
       "      <td>monday</td>\n",
       "    </tr>\n",
       "    <tr>\n",
       "      <th>1</th>\n",
       "      <td>0.914609</td>\n",
       "      <td>-1.595461</td>\n",
       "      <td>monday</td>\n",
       "    </tr>\n",
       "    <tr>\n",
       "      <th>2</th>\n",
       "      <td>0.092395</td>\n",
       "      <td>0.252506</td>\n",
       "      <td>tuesday</td>\n",
       "    </tr>\n",
       "    <tr>\n",
       "      <th>3</th>\n",
       "      <td>0.840928</td>\n",
       "      <td>0.780471</td>\n",
       "      <td>tuesday</td>\n",
       "    </tr>\n",
       "    <tr>\n",
       "      <th>4</th>\n",
       "      <td>0.753250</td>\n",
       "      <td>-0.418519</td>\n",
       "      <td>monday</td>\n",
       "    </tr>\n",
       "  </tbody>\n",
       "</table>\n",
       "</div>"
      ],
      "text/plain": [
       "    uniform    normal discrete\n",
       "0  0.297776 -0.073827   monday\n",
       "1  0.914609 -1.595461   monday\n",
       "2  0.092395  0.252506  tuesday\n",
       "3  0.840928  0.780471  tuesday\n",
       "4  0.753250 -0.418519   monday"
      ]
     },
     "execution_count": 41,
     "metadata": {},
     "output_type": "execute_result"
    }
   ],
   "source": [
    "df.head(5)"
   ]
  },
  {
   "cell_type": "markdown",
   "metadata": {
    "papermill": {
     "duration": 0.111632,
     "end_time": "2020-12-09T08:48:03.671368",
     "exception": false,
     "start_time": "2020-12-09T08:48:03.559736",
     "status": "completed"
    },
    "tags": []
   },
   "source": [
    "O `n` aleatorias:"
   ]
  },
  {
   "cell_type": "code",
   "execution_count": 42,
   "metadata": {
    "execution": {
     "iopub.execute_input": "2020-12-09T08:48:03.911190Z",
     "iopub.status.busy": "2020-12-09T08:48:03.907703Z",
     "iopub.status.idle": "2020-12-09T08:48:03.915973Z",
     "shell.execute_reply": "2020-12-09T08:48:03.915387Z"
    },
    "papermill": {
     "duration": 0.133166,
     "end_time": "2020-12-09T08:48:03.916102",
     "exception": false,
     "start_time": "2020-12-09T08:48:03.782936",
     "status": "completed"
    },
    "tags": []
   },
   "outputs": [
    {
     "data": {
      "text/html": [
       "<div>\n",
       "<style scoped>\n",
       "    .dataframe tbody tr th:only-of-type {\n",
       "        vertical-align: middle;\n",
       "    }\n",
       "\n",
       "    .dataframe tbody tr th {\n",
       "        vertical-align: top;\n",
       "    }\n",
       "\n",
       "    .dataframe thead th {\n",
       "        text-align: right;\n",
       "    }\n",
       "</style>\n",
       "<table border=\"1\" class=\"dataframe\">\n",
       "  <thead>\n",
       "    <tr style=\"text-align: right;\">\n",
       "      <th></th>\n",
       "      <th>uniform</th>\n",
       "      <th>normal</th>\n",
       "      <th>discrete</th>\n",
       "    </tr>\n",
       "  </thead>\n",
       "  <tbody>\n",
       "    <tr>\n",
       "      <th>144</th>\n",
       "      <td>0.662123</td>\n",
       "      <td>-1.505567</td>\n",
       "      <td>tuesday</td>\n",
       "    </tr>\n",
       "    <tr>\n",
       "      <th>663</th>\n",
       "      <td>0.683784</td>\n",
       "      <td>-0.961739</td>\n",
       "      <td>friday</td>\n",
       "    </tr>\n",
       "    <tr>\n",
       "      <th>952</th>\n",
       "      <td>0.979697</td>\n",
       "      <td>0.049457</td>\n",
       "      <td>friday</td>\n",
       "    </tr>\n",
       "    <tr>\n",
       "      <th>977</th>\n",
       "      <td>0.463871</td>\n",
       "      <td>-0.568788</td>\n",
       "      <td>tuesday</td>\n",
       "    </tr>\n",
       "    <tr>\n",
       "      <th>301</th>\n",
       "      <td>0.971773</td>\n",
       "      <td>-0.255816</td>\n",
       "      <td>friday</td>\n",
       "    </tr>\n",
       "  </tbody>\n",
       "</table>\n",
       "</div>"
      ],
      "text/plain": [
       "      uniform    normal discrete\n",
       "144  0.662123 -1.505567  tuesday\n",
       "663  0.683784 -0.961739   friday\n",
       "952  0.979697  0.049457   friday\n",
       "977  0.463871 -0.568788  tuesday\n",
       "301  0.971773 -0.255816   friday"
      ]
     },
     "execution_count": 42,
     "metadata": {},
     "output_type": "execute_result"
    }
   ],
   "source": [
    "df.sample(5, random_state=random_state)"
   ]
  },
  {
   "cell_type": "markdown",
   "metadata": {
    "papermill": {
     "duration": 0.113513,
     "end_time": "2020-12-09T08:48:04.143678",
     "exception": false,
     "start_time": "2020-12-09T08:48:04.030165",
     "status": "completed"
    },
    "tags": []
   },
   "source": [
    "También podemos obtener un resumen de las variables numéricas del conjunto de datos:"
   ]
  },
  {
   "cell_type": "code",
   "execution_count": 43,
   "metadata": {
    "execution": {
     "iopub.execute_input": "2020-12-09T08:48:04.379566Z",
     "iopub.status.busy": "2020-12-09T08:48:04.378757Z",
     "iopub.status.idle": "2020-12-09T08:48:04.395224Z",
     "shell.execute_reply": "2020-12-09T08:48:04.394465Z"
    },
    "papermill": {
     "duration": 0.1377,
     "end_time": "2020-12-09T08:48:04.395351",
     "exception": false,
     "start_time": "2020-12-09T08:48:04.257651",
     "status": "completed"
    },
    "tags": []
   },
   "outputs": [
    {
     "data": {
      "text/html": [
       "<div>\n",
       "<style scoped>\n",
       "    .dataframe tbody tr th:only-of-type {\n",
       "        vertical-align: middle;\n",
       "    }\n",
       "\n",
       "    .dataframe tbody tr th {\n",
       "        vertical-align: top;\n",
       "    }\n",
       "\n",
       "    .dataframe thead th {\n",
       "        text-align: right;\n",
       "    }\n",
       "</style>\n",
       "<table border=\"1\" class=\"dataframe\">\n",
       "  <thead>\n",
       "    <tr style=\"text-align: right;\">\n",
       "      <th></th>\n",
       "      <th>uniform</th>\n",
       "      <th>normal</th>\n",
       "    </tr>\n",
       "  </thead>\n",
       "  <tbody>\n",
       "    <tr>\n",
       "      <th>count</th>\n",
       "      <td>1000.000000</td>\n",
       "      <td>1000.000000</td>\n",
       "    </tr>\n",
       "    <tr>\n",
       "      <th>mean</th>\n",
       "      <td>0.496500</td>\n",
       "      <td>-0.015685</td>\n",
       "    </tr>\n",
       "    <tr>\n",
       "      <th>std</th>\n",
       "      <td>0.284890</td>\n",
       "      <td>1.028174</td>\n",
       "    </tr>\n",
       "    <tr>\n",
       "      <th>min</th>\n",
       "      <td>0.000672</td>\n",
       "      <td>-3.185296</td>\n",
       "    </tr>\n",
       "    <tr>\n",
       "      <th>25%</th>\n",
       "      <td>0.252771</td>\n",
       "      <td>-0.782922</td>\n",
       "    </tr>\n",
       "    <tr>\n",
       "      <th>50%</th>\n",
       "      <td>0.505453</td>\n",
       "      <td>0.036296</td>\n",
       "    </tr>\n",
       "    <tr>\n",
       "      <th>75%</th>\n",
       "      <td>0.728137</td>\n",
       "      <td>0.688196</td>\n",
       "    </tr>\n",
       "    <tr>\n",
       "      <th>max</th>\n",
       "      <td>0.999262</td>\n",
       "      <td>3.309652</td>\n",
       "    </tr>\n",
       "  </tbody>\n",
       "</table>\n",
       "</div>"
      ],
      "text/plain": [
       "           uniform       normal\n",
       "count  1000.000000  1000.000000\n",
       "mean      0.496500    -0.015685\n",
       "std       0.284890     1.028174\n",
       "min       0.000672    -3.185296\n",
       "25%       0.252771    -0.782922\n",
       "50%       0.505453     0.036296\n",
       "75%       0.728137     0.688196\n",
       "max       0.999262     3.309652"
      ]
     },
     "execution_count": 43,
     "metadata": {},
     "output_type": "execute_result"
    }
   ],
   "source": [
    "df.describe(include=\"number\")"
   ]
  },
  {
   "cell_type": "markdown",
   "metadata": {
    "papermill": {
     "duration": 0.11415,
     "end_time": "2020-12-09T08:48:04.624455",
     "exception": false,
     "start_time": "2020-12-09T08:48:04.510305",
     "status": "completed"
    },
    "tags": []
   },
   "source": [
    "Y de las discretas:"
   ]
  },
  {
   "cell_type": "code",
   "execution_count": 44,
   "metadata": {
    "execution": {
     "iopub.execute_input": "2020-12-09T08:48:04.860904Z",
     "iopub.status.busy": "2020-12-09T08:48:04.860173Z",
     "iopub.status.idle": "2020-12-09T08:48:04.887635Z",
     "shell.execute_reply": "2020-12-09T08:48:04.886918Z"
    },
    "papermill": {
     "duration": 0.149574,
     "end_time": "2020-12-09T08:48:04.887753",
     "exception": false,
     "start_time": "2020-12-09T08:48:04.738179",
     "status": "completed"
    },
    "tags": []
   },
   "outputs": [
    {
     "data": {
      "text/html": [
       "<div>\n",
       "<style scoped>\n",
       "    .dataframe tbody tr th:only-of-type {\n",
       "        vertical-align: middle;\n",
       "    }\n",
       "\n",
       "    .dataframe tbody tr th {\n",
       "        vertical-align: top;\n",
       "    }\n",
       "\n",
       "    .dataframe thead th {\n",
       "        text-align: right;\n",
       "    }\n",
       "</style>\n",
       "<table border=\"1\" class=\"dataframe\">\n",
       "  <thead>\n",
       "    <tr style=\"text-align: right;\">\n",
       "      <th></th>\n",
       "      <th>discrete</th>\n",
       "    </tr>\n",
       "  </thead>\n",
       "  <tbody>\n",
       "    <tr>\n",
       "      <th>count</th>\n",
       "      <td>1000</td>\n",
       "    </tr>\n",
       "    <tr>\n",
       "      <th>unique</th>\n",
       "      <td>3</td>\n",
       "    </tr>\n",
       "    <tr>\n",
       "      <th>top</th>\n",
       "      <td>monday</td>\n",
       "    </tr>\n",
       "    <tr>\n",
       "      <th>freq</th>\n",
       "      <td>342</td>\n",
       "    </tr>\n",
       "  </tbody>\n",
       "</table>\n",
       "</div>"
      ],
      "text/plain": [
       "       discrete\n",
       "count      1000\n",
       "unique        3\n",
       "top      monday\n",
       "freq        342"
      ]
     },
     "execution_count": 44,
     "metadata": {},
     "output_type": "execute_result"
    }
   ],
   "source": [
    "df.describe(include=\"object\")"
   ]
  },
  {
   "cell_type": "markdown",
   "metadata": {
    "_uuid": "cf68916427a279ad9b068571c6c2d669c00b139f",
    "papermill": {
     "duration": 0.113678,
     "end_time": "2020-12-09T08:48:05.115385",
     "exception": false,
     "start_time": "2020-12-09T08:48:05.001707",
     "status": "completed"
    },
    "tags": []
   },
   "source": [
    "#### Indexado\n",
    "\n",
    "A lo largo del curso introduciremos diversas operaciones para procesar los datos de un `DataFrame`, y así prepararlos para los diferentes algoritmos. De momento, vamos a mostrar algunas operaciones básicas.\n",
    "\n",
    "Podemos obtener subconjuntos del `DataFrame` mediante operaciones más potentes, como indexado de filas:"
   ]
  },
  {
   "cell_type": "code",
   "execution_count": 52,
   "metadata": {
    "_uuid": "8bdac213eb78f9445e248218edba090af4c1af96",
    "execution": {
     "iopub.execute_input": "2020-12-09T08:48:05.816978Z",
     "iopub.status.busy": "2020-12-09T08:48:05.816131Z",
     "iopub.status.idle": "2020-12-09T08:48:05.820880Z",
     "shell.execute_reply": "2020-12-09T08:48:05.820276Z"
    },
    "papermill": {
     "duration": 0.130417,
     "end_time": "2020-12-09T08:48:05.821006",
     "exception": false,
     "start_time": "2020-12-09T08:48:05.690589",
     "status": "completed"
    },
    "tags": []
   },
   "outputs": [
    {
     "data": {
      "text/html": [
       "<div>\n",
       "<style scoped>\n",
       "    .dataframe tbody tr th:only-of-type {\n",
       "        vertical-align: middle;\n",
       "    }\n",
       "\n",
       "    .dataframe tbody tr th {\n",
       "        vertical-align: top;\n",
       "    }\n",
       "\n",
       "    .dataframe thead th {\n",
       "        text-align: right;\n",
       "    }\n",
       "</style>\n",
       "<table border=\"1\" class=\"dataframe\">\n",
       "  <thead>\n",
       "    <tr style=\"text-align: right;\">\n",
       "      <th></th>\n",
       "      <th>uniform</th>\n",
       "      <th>normal</th>\n",
       "      <th>discrete</th>\n",
       "    </tr>\n",
       "  </thead>\n",
       "  <tbody>\n",
       "    <tr>\n",
       "      <th>0</th>\n",
       "      <td>0.297776</td>\n",
       "      <td>-0.073827</td>\n",
       "      <td>monday</td>\n",
       "    </tr>\n",
       "    <tr>\n",
       "      <th>1</th>\n",
       "      <td>0.914609</td>\n",
       "      <td>-1.595461</td>\n",
       "      <td>monday</td>\n",
       "    </tr>\n",
       "    <tr>\n",
       "      <th>2</th>\n",
       "      <td>0.092395</td>\n",
       "      <td>0.252506</td>\n",
       "      <td>tuesday</td>\n",
       "    </tr>\n",
       "    <tr>\n",
       "      <th>3</th>\n",
       "      <td>0.840928</td>\n",
       "      <td>0.780471</td>\n",
       "      <td>tuesday</td>\n",
       "    </tr>\n",
       "    <tr>\n",
       "      <th>4</th>\n",
       "      <td>0.753250</td>\n",
       "      <td>-0.418519</td>\n",
       "      <td>monday</td>\n",
       "    </tr>\n",
       "    <tr>\n",
       "      <th>5</th>\n",
       "      <td>0.540231</td>\n",
       "      <td>0.371267</td>\n",
       "      <td>friday</td>\n",
       "    </tr>\n",
       "  </tbody>\n",
       "</table>\n",
       "</div>"
      ],
      "text/plain": [
       "    uniform    normal discrete\n",
       "0  0.297776 -0.073827   monday\n",
       "1  0.914609 -1.595461   monday\n",
       "2  0.092395  0.252506  tuesday\n",
       "3  0.840928  0.780471  tuesday\n",
       "4  0.753250 -0.418519   monday\n",
       "5  0.540231  0.371267   friday"
      ]
     },
     "execution_count": 52,
     "metadata": {},
     "output_type": "execute_result"
    }
   ],
   "source": [
    "df.loc[0:5]"
   ]
  },
  {
   "cell_type": "markdown",
   "metadata": {
    "papermill": {
     "duration": 0.11502,
     "end_time": "2020-12-09T08:48:06.052405",
     "exception": false,
     "start_time": "2020-12-09T08:48:05.937385",
     "status": "completed"
    },
    "tags": []
   },
   "source": [
    "O de filas y columnas:"
   ]
  },
  {
   "cell_type": "code",
   "execution_count": 58,
   "metadata": {},
   "outputs": [],
   "source": [
    "columns = [\"uniform\", \"normal\"]"
   ]
  },
  {
   "cell_type": "code",
   "execution_count": 59,
   "metadata": {
    "_uuid": "162842b7466ff1e8cb30503bf41487b64267fee9",
    "execution": {
     "iopub.execute_input": "2020-12-09T08:48:06.295593Z",
     "iopub.status.busy": "2020-12-09T08:48:06.294504Z",
     "iopub.status.idle": "2020-12-09T08:48:06.298741Z",
     "shell.execute_reply": "2020-12-09T08:48:06.298067Z"
    },
    "papermill": {
     "duration": 0.130773,
     "end_time": "2020-12-09T08:48:06.298874",
     "exception": false,
     "start_time": "2020-12-09T08:48:06.168101",
     "status": "completed"
    },
    "tags": []
   },
   "outputs": [
    {
     "data": {
      "text/html": [
       "<div>\n",
       "<style scoped>\n",
       "    .dataframe tbody tr th:only-of-type {\n",
       "        vertical-align: middle;\n",
       "    }\n",
       "\n",
       "    .dataframe tbody tr th {\n",
       "        vertical-align: top;\n",
       "    }\n",
       "\n",
       "    .dataframe thead th {\n",
       "        text-align: right;\n",
       "    }\n",
       "</style>\n",
       "<table border=\"1\" class=\"dataframe\">\n",
       "  <thead>\n",
       "    <tr style=\"text-align: right;\">\n",
       "      <th></th>\n",
       "      <th>uniform</th>\n",
       "      <th>normal</th>\n",
       "    </tr>\n",
       "  </thead>\n",
       "  <tbody>\n",
       "    <tr>\n",
       "      <th>0</th>\n",
       "      <td>0.297776</td>\n",
       "      <td>-0.073827</td>\n",
       "    </tr>\n",
       "    <tr>\n",
       "      <th>1</th>\n",
       "      <td>0.914609</td>\n",
       "      <td>-1.595461</td>\n",
       "    </tr>\n",
       "    <tr>\n",
       "      <th>2</th>\n",
       "      <td>0.092395</td>\n",
       "      <td>0.252506</td>\n",
       "    </tr>\n",
       "    <tr>\n",
       "      <th>3</th>\n",
       "      <td>0.840928</td>\n",
       "      <td>0.780471</td>\n",
       "    </tr>\n",
       "    <tr>\n",
       "      <th>4</th>\n",
       "      <td>0.753250</td>\n",
       "      <td>-0.418519</td>\n",
       "    </tr>\n",
       "    <tr>\n",
       "      <th>5</th>\n",
       "      <td>0.540231</td>\n",
       "      <td>0.371267</td>\n",
       "    </tr>\n",
       "  </tbody>\n",
       "</table>\n",
       "</div>"
      ],
      "text/plain": [
       "    uniform    normal\n",
       "0  0.297776 -0.073827\n",
       "1  0.914609 -1.595461\n",
       "2  0.092395  0.252506\n",
       "3  0.840928  0.780471\n",
       "4  0.753250 -0.418519\n",
       "5  0.540231  0.371267"
      ]
     },
     "execution_count": 59,
     "metadata": {},
     "output_type": "execute_result"
    }
   ],
   "source": [
    "df.loc[0:5, columns]"
   ]
  },
  {
   "cell_type": "markdown",
   "metadata": {
    "papermill": {
     "duration": 0.115663,
     "end_time": "2020-12-09T08:48:06.530749",
     "exception": false,
     "start_time": "2020-12-09T08:48:06.415086",
     "status": "completed"
    },
    "tags": []
   },
   "source": [
    "De hecho, se puede realizar un indexado de filas basado en condiciones, equivalente al utilizado en `NumPy`:"
   ]
  },
  {
   "cell_type": "code",
   "execution_count": 62,
   "metadata": {},
   "outputs": [],
   "source": [
    "condition = df.discrete == \"monday\""
   ]
  },
  {
   "cell_type": "code",
   "execution_count": 63,
   "metadata": {
    "_uuid": "c993bfcea73ee25cb2680f7dfd2d304367675a4e",
    "execution": {
     "iopub.execute_input": "2020-12-09T08:48:06.776681Z",
     "iopub.status.busy": "2020-12-09T08:48:06.775815Z",
     "iopub.status.idle": "2020-12-09T08:48:06.779316Z",
     "shell.execute_reply": "2020-12-09T08:48:06.779932Z"
    },
    "papermill": {
     "duration": 0.133167,
     "end_time": "2020-12-09T08:48:06.780082",
     "exception": false,
     "start_time": "2020-12-09T08:48:06.646915",
     "status": "completed"
    },
    "tags": []
   },
   "outputs": [
    {
     "data": {
      "text/html": [
       "<div>\n",
       "<style scoped>\n",
       "    .dataframe tbody tr th:only-of-type {\n",
       "        vertical-align: middle;\n",
       "    }\n",
       "\n",
       "    .dataframe tbody tr th {\n",
       "        vertical-align: top;\n",
       "    }\n",
       "\n",
       "    .dataframe thead th {\n",
       "        text-align: right;\n",
       "    }\n",
       "</style>\n",
       "<table border=\"1\" class=\"dataframe\">\n",
       "  <thead>\n",
       "    <tr style=\"text-align: right;\">\n",
       "      <th></th>\n",
       "      <th>uniform</th>\n",
       "      <th>normal</th>\n",
       "      <th>discrete</th>\n",
       "    </tr>\n",
       "  </thead>\n",
       "  <tbody>\n",
       "    <tr>\n",
       "      <th>0</th>\n",
       "      <td>0.297776</td>\n",
       "      <td>-0.073827</td>\n",
       "      <td>monday</td>\n",
       "    </tr>\n",
       "    <tr>\n",
       "      <th>1</th>\n",
       "      <td>0.914609</td>\n",
       "      <td>-1.595461</td>\n",
       "      <td>monday</td>\n",
       "    </tr>\n",
       "    <tr>\n",
       "      <th>4</th>\n",
       "      <td>0.753250</td>\n",
       "      <td>-0.418519</td>\n",
       "      <td>monday</td>\n",
       "    </tr>\n",
       "    <tr>\n",
       "      <th>8</th>\n",
       "      <td>0.033818</td>\n",
       "      <td>0.664769</td>\n",
       "      <td>monday</td>\n",
       "    </tr>\n",
       "    <tr>\n",
       "      <th>15</th>\n",
       "      <td>0.982826</td>\n",
       "      <td>1.619302</td>\n",
       "      <td>monday</td>\n",
       "    </tr>\n",
       "  </tbody>\n",
       "</table>\n",
       "</div>"
      ],
      "text/plain": [
       "     uniform    normal discrete\n",
       "0   0.297776 -0.073827   monday\n",
       "1   0.914609 -1.595461   monday\n",
       "4   0.753250 -0.418519   monday\n",
       "8   0.033818  0.664769   monday\n",
       "15  0.982826  1.619302   monday"
      ]
     },
     "execution_count": 63,
     "metadata": {},
     "output_type": "execute_result"
    }
   ],
   "source": [
    "df.loc[condition].head(5)"
   ]
  },
  {
   "cell_type": "markdown",
   "metadata": {
    "_uuid": "db929fce9e78243c3ae6f3168369886b13006b0a",
    "papermill": {
     "duration": 0.117711,
     "end_time": "2020-12-09T08:48:07.015072",
     "exception": false,
     "start_time": "2020-12-09T08:48:06.897361",
     "status": "completed"
    },
    "tags": []
   },
   "source": [
    "#### Operaciones\n",
    "\n",
    "Podemos efectuar distintas operaciones sobre los datos, siendo las más importantes la obtención de estadísticos como la media:"
   ]
  },
  {
   "cell_type": "code",
   "execution_count": 49,
   "metadata": {
    "_uuid": "7904d379911a9512370ae2d14590a4b7e2e2fcb5",
    "execution": {
     "iopub.execute_input": "2020-12-09T08:48:07.488273Z",
     "iopub.status.busy": "2020-12-09T08:48:07.487225Z",
     "iopub.status.idle": "2020-12-09T08:48:07.497142Z",
     "shell.execute_reply": "2020-12-09T08:48:07.496413Z"
    },
    "papermill": {
     "duration": 0.131821,
     "end_time": "2020-12-09T08:48:07.497269",
     "exception": false,
     "start_time": "2020-12-09T08:48:07.365448",
     "status": "completed"
    },
    "tags": []
   },
   "outputs": [
    {
     "data": {
      "text/plain": [
       "uniform    0.496500\n",
       "normal    -0.015685\n",
       "dtype: float64"
      ]
     },
     "execution_count": 49,
     "metadata": {},
     "output_type": "execute_result"
    }
   ],
   "source": [
    "np.mean(df)"
   ]
  },
  {
   "cell_type": "markdown",
   "metadata": {
    "papermill": {
     "duration": 0.117532,
     "end_time": "2020-12-09T08:48:07.732667",
     "exception": false,
     "start_time": "2020-12-09T08:48:07.615135",
     "status": "completed"
    },
    "tags": []
   },
   "source": [
    "O la desviación estándar:"
   ]
  },
  {
   "cell_type": "code",
   "execution_count": 50,
   "metadata": {
    "_uuid": "c328e16e5a0617acfcc00635a4bf745437e57a59",
    "execution": {
     "iopub.execute_input": "2020-12-09T08:48:07.977285Z",
     "iopub.status.busy": "2020-12-09T08:48:07.976190Z",
     "iopub.status.idle": "2020-12-09T08:48:07.980513Z",
     "shell.execute_reply": "2020-12-09T08:48:07.981069Z"
    },
    "papermill": {
     "duration": 0.131654,
     "end_time": "2020-12-09T08:48:07.981233",
     "exception": false,
     "start_time": "2020-12-09T08:48:07.849579",
     "status": "completed"
    },
    "tags": []
   },
   "outputs": [
    {
     "data": {
      "text/plain": [
       "uniform    0.284747\n",
       "normal     1.027660\n",
       "dtype: float64"
      ]
     },
     "execution_count": 50,
     "metadata": {},
     "output_type": "execute_result"
    }
   ],
   "source": [
    "np.std(df)"
   ]
  },
  {
   "cell_type": "markdown",
   "metadata": {
    "papermill": {
     "duration": 0.119028,
     "end_time": "2020-12-09T08:48:08.218386",
     "exception": false,
     "start_time": "2020-12-09T08:48:08.099358",
     "status": "completed"
    },
    "tags": []
   },
   "source": [
    "Sin embargo, existen otras operaciones de gran interés como el reemplazo de valores:"
   ]
  },
  {
   "cell_type": "code",
   "execution_count": 51,
   "metadata": {
    "_uuid": "95629070611627936e5d0ddcd4bd68997797f5c9",
    "execution": {
     "iopub.execute_input": "2020-12-09T08:48:08.468126Z",
     "iopub.status.busy": "2020-12-09T08:48:08.467191Z",
     "iopub.status.idle": "2020-12-09T08:48:08.472208Z",
     "shell.execute_reply": "2020-12-09T08:48:08.471546Z"
    },
    "papermill": {
     "duration": 0.135971,
     "end_time": "2020-12-09T08:48:08.472333",
     "exception": false,
     "start_time": "2020-12-09T08:48:08.336362",
     "status": "completed"
    },
    "tags": []
   },
   "outputs": [
    {
     "data": {
      "text/html": [
       "<div>\n",
       "<style scoped>\n",
       "    .dataframe tbody tr th:only-of-type {\n",
       "        vertical-align: middle;\n",
       "    }\n",
       "\n",
       "    .dataframe tbody tr th {\n",
       "        vertical-align: top;\n",
       "    }\n",
       "\n",
       "    .dataframe thead th {\n",
       "        text-align: right;\n",
       "    }\n",
       "</style>\n",
       "<table border=\"1\" class=\"dataframe\">\n",
       "  <thead>\n",
       "    <tr style=\"text-align: right;\">\n",
       "      <th></th>\n",
       "      <th>uniform</th>\n",
       "      <th>normal</th>\n",
       "      <th>discrete</th>\n",
       "    </tr>\n",
       "  </thead>\n",
       "  <tbody>\n",
       "    <tr>\n",
       "      <th>144</th>\n",
       "      <td>0.662123</td>\n",
       "      <td>-1.505567</td>\n",
       "      <td>tuesday</td>\n",
       "    </tr>\n",
       "    <tr>\n",
       "      <th>663</th>\n",
       "      <td>0.683784</td>\n",
       "      <td>-0.961739</td>\n",
       "      <td>saturday</td>\n",
       "    </tr>\n",
       "    <tr>\n",
       "      <th>952</th>\n",
       "      <td>0.979697</td>\n",
       "      <td>0.049457</td>\n",
       "      <td>saturday</td>\n",
       "    </tr>\n",
       "    <tr>\n",
       "      <th>977</th>\n",
       "      <td>0.463871</td>\n",
       "      <td>-0.568788</td>\n",
       "      <td>tuesday</td>\n",
       "    </tr>\n",
       "    <tr>\n",
       "      <th>301</th>\n",
       "      <td>0.971773</td>\n",
       "      <td>-0.255816</td>\n",
       "      <td>saturday</td>\n",
       "    </tr>\n",
       "  </tbody>\n",
       "</table>\n",
       "</div>"
      ],
      "text/plain": [
       "      uniform    normal  discrete\n",
       "144  0.662123 -1.505567   tuesday\n",
       "663  0.683784 -0.961739  saturday\n",
       "952  0.979697  0.049457  saturday\n",
       "977  0.463871 -0.568788   tuesday\n",
       "301  0.971773 -0.255816  saturday"
      ]
     },
     "execution_count": 51,
     "metadata": {},
     "output_type": "execute_result"
    }
   ],
   "source": [
    "df.replace(to_replace=\"friday\", value=\"saturday\").sample(5, random_state=random_state)"
   ]
  },
  {
   "cell_type": "markdown",
   "metadata": {
    "_uuid": "771f1cf070f9a600824e2935e9ec6a137fb3417f",
    "papermill": {
     "duration": 0.11823,
     "end_time": "2020-12-09T08:48:08.709470",
     "exception": false,
     "start_time": "2020-12-09T08:48:08.591240",
     "status": "completed"
    },
    "tags": []
   },
   "source": [
    "## 3. Ejercicios\n",
    "\n",
    "Hemos realizado un repaso rápido por algunas de las funcionalidades que veremos a lo largo del curso. Es recomendable que los alumnos repasen de nuevo la libreta y se familiaricen con la sintaxis que acabamos de ver. Si bien no es necesario memorizar ni adquirir un nivel de experiencia demasiado alto con estas herramientas, sí es recomendable poder entender las operaciones a realizar con fluidez para evitar que estas sean un impedimento en futuras prácticas.\n",
    "\n",
    "Por ello, **y con carácter opcional**, se proponen los siguientes ejercicios."
   ]
  },
  {
   "cell_type": "markdown",
   "metadata": {
    "papermill": {
     "duration": 0.118364,
     "end_time": "2020-12-09T08:48:09.187799",
     "exception": false,
     "start_time": "2020-12-09T08:48:09.069435",
     "status": "completed"
    },
    "tags": []
   },
   "source": [
    "### Ejercicio 1\n",
    "\n",
    "Se pide crear una lista de `Python` que contenga números impares del $ 1 $ al $ 5000000 $ (ambos inclusive) con tres funciones diferentes:\n",
    "\n",
    "* Lista de comprehensión\n",
    "* Programación funcional con `filter` y `lambda`\n",
    "* Bucle `for`\n",
    "\n",
    "Con el objetivo de llevar a cabo un estudio temporal y determinar cuál de dichas opciones es más eficiente.\n",
    "\n",
    "Una vez se ha implementado el código correspondiente y se ha verificado que el resultado proporcionado por cada una de las funciones es correcto, podemos llevar a cabo el estudio temporal. Para ello, se puede utilizar el [*comando mágico*](https://ipython.readthedocs.io/en/stable/interactive/magics.html) `timeit`.\n",
    "\n",
    "De acuerdo a los resultados obtenidos, ¿Qué se puede concluir?"
   ]
  },
  {
   "cell_type": "markdown",
   "metadata": {
    "_uuid": "11565df310b5c7cf84cbe00a38d5d7a5d97006a0",
    "papermill": {
     "duration": 0.122337,
     "end_time": "2020-12-09T08:48:12.496041",
     "exception": false,
     "start_time": "2020-12-09T08:48:12.373704",
     "status": "completed"
    },
    "tags": []
   },
   "source": [
    "### Ejercicio 2\n",
    "\n",
    "Crea un *array* nulo (todo ceros) de tamaño $ 3 \\times 3 $, cuya componente en la primera fila y tercera columna sea un $ 5 $."
   ]
  },
  {
   "cell_type": "markdown",
   "metadata": {
    "_uuid": "5fcc128e7ccb1e062ec5e9984e23dea8e020ce8f",
    "papermill": {
     "duration": 0.12414,
     "end_time": "2020-12-09T08:48:14.053570",
     "exception": false,
     "start_time": "2020-12-09T08:48:13.929430",
     "status": "completed"
    },
    "tags": []
   },
   "source": [
    "### Ejercicio 3\n",
    "\n",
    "Crear un *array* de tamaño $ 4 \\times 5 $, en los que todos los elementos tengan un valor de $ 2 $."
   ]
  },
  {
   "cell_type": "markdown",
   "metadata": {
    "_uuid": "d28cacbeaf4e39520eba245271916ea7f154dff9",
    "papermill": {
     "duration": 0.124303,
     "end_time": "2020-12-09T08:48:15.577103",
     "exception": false,
     "start_time": "2020-12-09T08:48:15.452800",
     "status": "completed"
    },
    "tags": []
   },
   "source": [
    "### Ejercicio 4\n",
    "\n",
    "Construir un *array* de tamaño $ 3 \\times 3 $, cuyos elementos de la diagonal principal sean $ 3 $ y los demás ceros."
   ]
  },
  {
   "cell_type": "markdown",
   "metadata": {
    "_uuid": "5b39148e3af4902a158f82769d7239ef00c52fe0",
    "papermill": {
     "duration": 0.125608,
     "end_time": "2020-12-09T08:48:17.105520",
     "exception": false,
     "start_time": "2020-12-09T08:48:16.979912",
     "status": "completed"
    },
    "tags": []
   },
   "source": [
    "### Ejercicio 5\n",
    "\n",
    "Crear un *array* de tamaño $ 5 \\times 5 $ cuyos valores sean consecutivos, y obtener el *array* central de tamaño $ 3 \\times 3 $ que resulta al quitar todos los elementos periféricos."
   ]
  },
  {
   "cell_type": "markdown",
   "metadata": {
    "papermill": {
     "duration": 0.169419,
     "end_time": "2020-12-09T08:48:18.962927",
     "exception": false,
     "start_time": "2020-12-09T08:48:18.793508",
     "status": "completed"
    },
    "tags": []
   },
   "source": [
    "### Ejercicio 6\n",
    "\n",
    "Basándonos en el `DataFrame` utilizado previamente, se pide crear un nuevo `DataFrame` que añada, al anterior, una columna llamada `exponential` conteniendo filas provenientes de una distribución exponencial.\n",
    "\n",
    "Una vez se ha creado dicho `DataFrame`, se pide obtener las filas cuyo valor de la columna `normal` sea menor que $ -2 $ y, además, contengan el valor `friday` en la columna `discrete`. Tras obtener dichas filas, se debe modificar el valor de `exponential` por $ 0.0 $."
   ]
  }
 ],
 "metadata": {
  "kernelspec": {
   "display_name": "Python 3",
   "language": "python",
   "name": "python3"
  },
  "language_info": {
   "codemirror_mode": {
    "name": "ipython",
    "version": 3
   },
   "file_extension": ".py",
   "mimetype": "text/x-python",
   "name": "python",
   "nbconvert_exporter": "python",
   "pygments_lexer": "ipython3",
   "version": "3.7.10"
  },
  "papermill": {
   "duration": 40.119701,
   "end_time": "2020-12-09T08:48:21.902318",
   "environment_variables": {},
   "exception": null,
   "input_path": "__notebook__.ipynb",
   "output_path": "__notebook__.ipynb",
   "parameters": {},
   "start_time": "2020-12-09T08:47:41.782617",
   "version": "2.1.0"
  }
 },
 "nbformat": 4,
 "nbformat_minor": 4
}
